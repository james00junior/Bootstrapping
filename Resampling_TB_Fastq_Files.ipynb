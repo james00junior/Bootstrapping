{
 "cells": [
  {
   "cell_type": "code",
   "execution_count": 1,
   "metadata": {
    "scrolled": true
   },
   "outputs": [],
   "source": [
    "import sys\n",
    "import glob\n",
    "from sklearn.utils import resample\n",
    "from sklearn.preprocessing import normalize\n",
    "from sklearn.feature_extraction.text import TfidfVectorizer\n",
    "import itertools\n",
    "import random\n",
    "import numpy as np\n",
    "import matplotlib\n",
    "matplotlib.use('agg')\n",
    "from utility.math_utility import get_kl_rows\n",
    "from matplotlib.pyplot import *\n",
    "from Bio import SeqIO\n",
    "from utility.file_utility import FileUtility\n",
    "import matplotlib.pyplot as plt"
   ]
  },
  {
   "cell_type": "markdown",
   "metadata": {},
   "source": [
    "# TB public data "
   ]
  },
  {
   "cell_type": "code",
   "execution_count": 2,
   "metadata": {},
   "outputs": [],
   "source": [
    "list_of_files = glob.glob(\"/Users/jamesmashiyane/Desktop/TB_Fastq_Test_Data/small_fastq_files1mil_lines/*.fastq\")"
   ]
  },
  {
   "cell_type": "code",
   "execution_count": 3,
   "metadata": {},
   "outputs": [
    {
     "data": {
      "text/plain": [
       "10"
      ]
     },
     "execution_count": 3,
     "metadata": {},
     "output_type": "execute_result"
    }
   ],
   "source": [
    "len(list_of_files)"
   ]
  },
  {
   "cell_type": "code",
   "execution_count": 4,
   "metadata": {},
   "outputs": [
    {
     "data": {
      "text/plain": [
       "['/Users/jamesmashiyane/Desktop/TB_Fastq_Test_Data/small_fastq_files1mil_lines/sample10.fastq',\n",
       " '/Users/jamesmashiyane/Desktop/TB_Fastq_Test_Data/small_fastq_files1mil_lines/sample9.fastq',\n",
       " '/Users/jamesmashiyane/Desktop/TB_Fastq_Test_Data/small_fastq_files1mil_lines/sample8.fastq',\n",
       " '/Users/jamesmashiyane/Desktop/TB_Fastq_Test_Data/small_fastq_files1mil_lines/sample2.fastq',\n",
       " '/Users/jamesmashiyane/Desktop/TB_Fastq_Test_Data/small_fastq_files1mil_lines/sample6.fastq',\n",
       " '/Users/jamesmashiyane/Desktop/TB_Fastq_Test_Data/small_fastq_files1mil_lines/sample4.fastq',\n",
       " '/Users/jamesmashiyane/Desktop/TB_Fastq_Test_Data/small_fastq_files1mil_lines/sample3.fastq',\n",
       " '/Users/jamesmashiyane/Desktop/TB_Fastq_Test_Data/small_fastq_files1mil_lines/sample1.fastq',\n",
       " '/Users/jamesmashiyane/Desktop/TB_Fastq_Test_Data/small_fastq_files1mil_lines/sample5.fastq',\n",
       " '/Users/jamesmashiyane/Desktop/TB_Fastq_Test_Data/small_fastq_files1mil_lines/sample7.fastq']"
      ]
     },
     "execution_count": 4,
     "metadata": {},
     "output_type": "execute_result"
    }
   ],
   "source": [
    "list_of_files"
   ]
  },
  {
   "cell_type": "code",
   "execution_count": 5,
   "metadata": {},
   "outputs": [],
   "source": [
    "#list_of_files2 = [x.replace(\"/Users/jamesmashiyane/Desktop/TB_Fastq_Test_Data/\", '') for x in list_of_files]"
   ]
  },
  {
   "cell_type": "code",
   "execution_count": 6,
   "metadata": {},
   "outputs": [],
   "source": [
    "fasta_files, mapping = FileUtility.read_fasta_directory('/Users/jamesmashiyane/Desktop/TB_Fastq_Test_Data/small_fastq_files1mil_lines/',\n",
    "                                                        'fastq')"
   ]
  },
  {
   "cell_type": "code",
   "execution_count": 7,
   "metadata": {},
   "outputs": [
    {
     "data": {
      "text/plain": [
       "['/Users/jamesmashiyane/Desktop/TB_Fastq_Test_Data/small_fastq_files1mil_lines/sample1.fastq',\n",
       " '/Users/jamesmashiyane/Desktop/TB_Fastq_Test_Data/small_fastq_files1mil_lines/sample10.fastq',\n",
       " '/Users/jamesmashiyane/Desktop/TB_Fastq_Test_Data/small_fastq_files1mil_lines/sample2.fastq',\n",
       " '/Users/jamesmashiyane/Desktop/TB_Fastq_Test_Data/small_fastq_files1mil_lines/sample3.fastq',\n",
       " '/Users/jamesmashiyane/Desktop/TB_Fastq_Test_Data/small_fastq_files1mil_lines/sample4.fastq',\n",
       " '/Users/jamesmashiyane/Desktop/TB_Fastq_Test_Data/small_fastq_files1mil_lines/sample5.fastq',\n",
       " '/Users/jamesmashiyane/Desktop/TB_Fastq_Test_Data/small_fastq_files1mil_lines/sample6.fastq',\n",
       " '/Users/jamesmashiyane/Desktop/TB_Fastq_Test_Data/small_fastq_files1mil_lines/sample7.fastq',\n",
       " '/Users/jamesmashiyane/Desktop/TB_Fastq_Test_Data/small_fastq_files1mil_lines/sample8.fastq',\n",
       " '/Users/jamesmashiyane/Desktop/TB_Fastq_Test_Data/small_fastq_files1mil_lines/sample9.fastq']"
      ]
     },
     "execution_count": 7,
     "metadata": {},
     "output_type": "execute_result"
    }
   ],
   "source": [
    "fasta_files "
   ]
  },
  {
   "cell_type": "code",
   "execution_count": 8,
   "metadata": {},
   "outputs": [
    {
     "data": {
      "text/plain": [
       "{'/Users/jamesmashiyane/Desktop/TB_Fastq_Test_Data/small_fastq_files1mil_lines/sample1.fastq': 0,\n",
       " '/Users/jamesmashiyane/Desktop/TB_Fastq_Test_Data/small_fastq_files1mil_lines/sample10.fastq': 1,\n",
       " '/Users/jamesmashiyane/Desktop/TB_Fastq_Test_Data/small_fastq_files1mil_lines/sample2.fastq': 2,\n",
       " '/Users/jamesmashiyane/Desktop/TB_Fastq_Test_Data/small_fastq_files1mil_lines/sample3.fastq': 3,\n",
       " '/Users/jamesmashiyane/Desktop/TB_Fastq_Test_Data/small_fastq_files1mil_lines/sample4.fastq': 4,\n",
       " '/Users/jamesmashiyane/Desktop/TB_Fastq_Test_Data/small_fastq_files1mil_lines/sample5.fastq': 5,\n",
       " '/Users/jamesmashiyane/Desktop/TB_Fastq_Test_Data/small_fastq_files1mil_lines/sample6.fastq': 6,\n",
       " '/Users/jamesmashiyane/Desktop/TB_Fastq_Test_Data/small_fastq_files1mil_lines/sample7.fastq': 7,\n",
       " '/Users/jamesmashiyane/Desktop/TB_Fastq_Test_Data/small_fastq_files1mil_lines/sample8.fastq': 8,\n",
       " '/Users/jamesmashiyane/Desktop/TB_Fastq_Test_Data/small_fastq_files1mil_lines/sample9.fastq': 9}"
      ]
     },
     "execution_count": 8,
     "metadata": {},
     "output_type": "execute_result"
    }
   ],
   "source": [
    "mapping"
   ]
  },
  {
   "cell_type": "markdown",
   "metadata": {},
   "source": [
    "# Bootstrapping to find a proper sampling size"
   ]
  },
  {
   "cell_type": "code",
   "execution_count": 9,
   "metadata": {},
   "outputs": [],
   "source": [
    "input_dir = fasta_files\n",
    "output_dir = '/Users/jamesmashiyane/Desktop/TB_Fastq_Test_Data/fastq_1mil__output_dir/'\n",
    "seqtype='fastq'\n",
    "sampling_sizes=[10, 20,50]\n",
    "n_resamples=10\n",
    "M=10"
   ]
  },
  {
   "cell_type": "code",
   "execution_count": 10,
   "metadata": {},
   "outputs": [],
   "source": [
    "# dictionary for different k-values\n",
    "# are the sampling sizes\n",
    "N_axis = dict()\n",
    "# are mean of distances among k-mer distribution resamples\n",
    "D_S = dict()\n",
    "# are std of distances among k-mer distribution resamples\n",
    "std_D_S = dict()\n",
    "# are mean of distances between k-mer distribution resamples and the whole sample k-mer distribution\n",
    "D_R = dict()\n",
    "# are std of distances between k-mer distribution resamples and the whole sample k-mer distribution\n",
    "std_D_R = dict()"
   ]
  },
  {
   "cell_type": "code",
   "execution_count": 11,
   "metadata": {},
   "outputs": [],
   "source": [
    "def _get_kmer_distribution(sample_file, k, sample_size, number_of_samples):\n",
    "        '''\n",
    "        generate k-mer distribution\n",
    "        :param sample_file:\n",
    "        :param k:\n",
    "        :param sample_size:\n",
    "        :param number_of_samples:\n",
    "        :return:\n",
    "        '''\n",
    "        vocab = [''.join(xs) for xs in itertools.product('atcg', repeat=k)]\n",
    "        vectorizer = TfidfVectorizer(use_idf=False, vocabulary=vocab, analyzer='char', ngram_range=(k, k),\n",
    "                                     norm=None, stop_words=[], lowercase=True, binary=False)\n",
    "        corpus = []\n",
    "        # read the sequences from the fasta file\n",
    "        for cur_record in SeqIO.parse(sample_file, 'fasta' if seqtype == 'fsa' else seqtype):\n",
    "            corpus.append(str(cur_record.seq).lower())\n",
    "        if sample_size == -1:\n",
    "            sample_size = len(corpus)\n",
    "            resamples = [corpus]\n",
    "        else:\n",
    "            resamples = []\n",
    "            for i in range(number_of_samples):\n",
    "                resamples.append(resample(corpus, replace=True, n_samples=sample_size))\n",
    "        vect = []\n",
    "        for rs in resamples:\n",
    "            vect.append(\n",
    "                normalize(np.sum(vectorizer.fit_transform(rs).toarray(), axis=0).reshape(1, -1), axis=1, norm='l1')[0])\n",
    "        return vect"
   ]
  },
  {
   "cell_type": "code",
   "execution_count": 12,
   "metadata": {},
   "outputs": [],
   "source": [
    "def get_stats_samples(k_mer):\n",
    "        '''\n",
    "        get the D_R and D_S\n",
    "        :param k_mer:\n",
    "        :return:\n",
    "        '''\n",
    "        x = []\n",
    "        y = []\n",
    "        y_tot = []\n",
    "        error = []\n",
    "        error_tot = []\n",
    "        # To find the files\n",
    "        sample_files = input_dir\n",
    "        sample_files = random.sample(sample_files, M)\n",
    "\n",
    "        # To iterate over the sampling sizes\n",
    "        for sample_size in sampling_sizes:\n",
    "            distance_i = []\n",
    "            tot_dist_i = []\n",
    "            print(' sampling size ', sample_size, ' is started ...')\n",
    "            # To iterate over random files\n",
    "            for sample_file in sample_files:\n",
    "                comp_dist = _get_kmer_distribution(sample_file, k_mer, -1, 1)\n",
    "                resamples_kmers = _get_kmer_distribution(sample_file, k_mer, sample_size, n_resamples)\n",
    "                distance_i.append(np.mean(get_kl_rows(np.array(resamples_kmers))))\n",
    "                tot_dist_i = tot_dist_i + list(\n",
    "                    get_kl_rows(np.vstack((np.array(resamples_kmers), comp_dist[0])))[0:10, 10])\n",
    "            print(' sampling size ', sample_size, ' is completed.')\n",
    "            mean_distance = np.mean(distance_i)\n",
    "            std_distance = np.std(distance_i)\n",
    "            mean_total_distance = np.mean(tot_dist_i)\n",
    "            std_total_distance = np.std(tot_dist_i)\n",
    "            x.append(sample_size)\n",
    "            y.append(mean_distance)\n",
    "            error.append(std_distance)\n",
    "            y_tot.append(mean_total_distance)\n",
    "            error_tot.append(std_total_distance)\n",
    "        return x, y, error, y_tot, error_tot"
   ]
  },
  {
   "cell_type": "code",
   "execution_count": 13,
   "metadata": {},
   "outputs": [],
   "source": [
    "def add_kmer_sampling(k_mer):\n",
    "        '''\n",
    "        :param k_mer: k_mer bootstrapping to add in the analysis\n",
    "        :return:\n",
    "        '''\n",
    "        N_axis[k_mer], D_S[k_mer], std_D_S[k_mer], D_R[k_mer], std_D_R[k_mer] = get_stats_samples(k_mer)"
   ]
  },
  {
   "cell_type": "code",
   "execution_count": 14,
   "metadata": {
    "scrolled": false
   },
   "outputs": [
    {
     "name": "stdout",
     "output_type": "stream",
     "text": [
      "3 -mer bootstrapping..\n",
      " sampling size  10  is started ...\n",
      " sampling size  10  is completed.\n",
      " sampling size  20  is started ...\n",
      " sampling size  20  is completed.\n",
      " sampling size  50  is started ...\n",
      " sampling size  50  is completed.\n",
      "4 -mer bootstrapping..\n",
      " sampling size  10  is started ...\n",
      " sampling size  10  is completed.\n",
      " sampling size  20  is started ...\n",
      " sampling size  20  is completed.\n",
      " sampling size  50  is started ...\n",
      " sampling size  50  is completed.\n"
     ]
    }
   ],
   "source": [
    "## add k-mer samplings\n",
    "# To see what the code does, let's use two values of k\n",
    "for k in [3,4]:\n",
    "    print(k,'-mer bootstrapping..')\n",
    "    add_kmer_sampling(k)"
   ]
  },
  {
   "cell_type": "code",
   "execution_count": 15,
   "metadata": {},
   "outputs": [
    {
     "name": "stdout",
     "output_type": "stream",
     "text": [
      "Populating the interactive namespace from numpy and matplotlib\n"
     ]
    },
    {
     "name": "stderr",
     "output_type": "stream",
     "text": [
      "/Users/jamesmashiyane/anaconda3/envs/james35/lib/python3.5/site-packages/IPython/core/magics/pylab.py:160: UserWarning: pylab import has clobbered these variables: ['draw_if_interactive', 'random']\n",
      "`%matplotlib` prevents importing * from pylab and numpy\n",
      "  \"\\n`%matplotlib` prevents importing * from pylab and numpy\"\n"
     ]
    }
   ],
   "source": [
    "import matplotlib.pyplot as plt\n",
    "%pylab inline\n",
    "%matplotlib inline "
   ]
  },
  {
   "cell_type": "code",
   "execution_count": 16,
   "metadata": {
    "scrolled": false
   },
   "outputs": [
    {
     "name": "stdout",
     "output_type": "stream",
     "text": [
      "[3, 4]\n"
     ]
    },
    {
     "data": {
      "text/plain": [
       "Text(0.5, 1.01, '(ii) Unrepresentativeness $\\\\bar{D_R}$, with respect to sample size (N)')"
      ]
     },
     "execution_count": 16,
     "metadata": {},
     "output_type": "execute_result"
    },
    {
     "name": "stderr",
     "output_type": "stream",
     "text": [
      "/Users/jamesmashiyane/anaconda3/envs/james35/lib/python3.5/site-packages/matplotlib/font_manager.py:1238: UserWarning: findfont: Font family ['cursive'] not found. Falling back to DejaVu Sans.\n",
      "  (prop.get_family(), self.defaultFamily[fontext]))\n",
      "/Users/jamesmashiyane/anaconda3/envs/james35/lib/python3.5/site-packages/matplotlib/font_manager.py:1238: UserWarning: findfont: Font family ['Bitstream Vera Sans'] not found. Falling back to DejaVu Sans.\n",
      "  (prop.get_family(), self.defaultFamily[fontext]))\n"
     ]
    },
    {
     "data": {
      "image/png": "[encoded data removed]",
      "text/plain": [
       "<Figure size 720x720 with 2 Axes>"
      ]
     },
     "metadata": {
      "needs_background": "light"
     },
     "output_type": "display_data"
    }
   ],
   "source": [
    "file_name = fasta_files\n",
    "dataset_name = 'body-site'\n",
    "\n",
    "fig = plt.figure(figsize=(10, 10))\n",
    "matplotlib.rcParams['mathtext.fontset'] = 'stix'\n",
    "matplotlib.rcParams['font.family'] = 'STIXGeneral'\n",
    "#matplotlib.pyplot.title(r'ABC123 vs $\\mathrm{ABC123}^{123}$')\n",
    "matplotlib.rcParams['mathtext.fontset'] = 'custom'\n",
    "matplotlib.rcParams['mathtext.rm'] = 'Bitstream Vera Sans'\n",
    "matplotlib.rcParams['mathtext.it'] = 'Bitstream Vera Sans:italic'\n",
    "matplotlib.rcParams['mathtext.bf'] = 'Bitstream Vera Sans:bold'\n",
    "#matplotlib.pyplot.title(r'ABC123 vs $\\mathrm{ABC123}^{123}$')\n",
    "plt.rc('text', usetex=False)\n",
    "ax = fig.add_subplot(2,1,1)\n",
    "k_mers = list(N_axis.keys())\n",
    "print(k_mers)\n",
    "legend_vals = []\n",
    "for k in k_mers:\n",
    "    ax.plot(N_axis[k], np.array(D_S[k]))\n",
    "    ax.fill_between(N_axis[k], np.array(D_S[k]) - np.array(std_D_S[k]),\n",
    "                    np.array(D_S[k]) + np.array(std_D_S[k]), alpha=0.2, \n",
    "                    linewidth=4,linestyle='dashdot', antialiased=True)\n",
    "    legend_vals.append('k = ' + str(k))\n",
    "ax.legend(legend_vals, loc='upper right', prop={'size': 15}, ncol=1)\n",
    "plt.xlabel('Resample size (N)', fontsize=14)\n",
    "plt.ylabel(r'$\\bar{D_S}(N,k)$', fontsize=14)\n",
    "plt.xlim([0, 5000])\n",
    "plt.ylim([0, 10])\n",
    "ax.set_title(r'(i) Self-inconsistency $\\bar{D_S}$, with respect to sample size (N)',\n",
    "            fontsize=14, y=1.01)\n",
    "#-------------------------------\n",
    "ax = fig.add_subplot(2,1,2)\n",
    "k_mers = list(N_axis.keys())\n",
    "legend_vals = []\n",
    "for k in k_mers:\n",
    "    ax.plot(N_axis[k], np.array(D_R[k]))\n",
    "    ax.fill_between(N_axis[k], np.array(D_R[k]) - np.array(std_D_R[k]),\n",
    "                    np.array(D_R[k]) + np.array(std_D_R[k]), alpha=0.2, linewidth=4,\n",
    "                    linestyle='dashdot', antialiased=True)\n",
    "    legend_vals.append('k = ' + str(k))\n",
    "ax.legend(legend_vals, loc='upper right', prop={'size': 15}, ncol=1)\n",
    "xlim([0, 5000])\n",
    "ylim([0, 0.1])\n",
    "xlabel('Resample size (N)', fontsize=14)\n",
    "ylabel(r'$\\bar{D_R}(N,k)$', fontsize=14)\n",
    "ax.set_title(r'(ii) Unrepresentativeness $\\bar{D_R}$, with respect to sample size (N)',\n",
    "            fontsize=14, y=1.01)"
   ]
  },
  {
   "cell_type": "raw",
   "metadata": {
    "scrolled": false
   },
   "source": [
    "From this graph we can see that as you keep increasing k, you also have to increase the resampling size. We are looking for a part when these two graphs correspond in their minimum.  "
   ]
  },
  {
   "cell_type": "code",
   "execution_count": 17,
   "metadata": {
    "scrolled": false
   },
   "outputs": [],
   "source": [
    "from sklearn.preprocessing import normalize\n",
    "from sklearn.feature_extraction.text import TfidfVectorizer\n",
    "import itertools\n",
    "import numpy as np\n",
    "from multiprocessing import Pool\n",
    "import tqdm\n",
    "import random\n",
    "from scipy import sparse\n",
    "from utility.file_utility import FileUtility\n",
    "from Bio import SeqIO\n",
    "import timeit"
   ]
  },
  {
   "cell_type": "markdown",
   "metadata": {},
   "source": [
    "# Build Representations"
   ]
  },
  {
   "cell_type": "code",
   "execution_count": 18,
   "metadata": {},
   "outputs": [],
   "source": [
    "def get_kmer_resamples(sample_file, k, sample_size, number_of_samples):\n",
    "        '''\n",
    "        generate k-mer distribution\n",
    "        :param sample_file:\n",
    "        :param k:\n",
    "        :param sample_size:\n",
    "        :param number_of_samples:\n",
    "        :return:\n",
    "        '''\n",
    "        sample_file = get_file(sample_file)\n",
    "        \n",
    "        corpus = []\n",
    "        # read the sequences from the fasta file\n",
    "        for cur_record in SeqIO.parse(StringIO(sample_file.decode('utf-8')), 'fasta' if seqtype == 'fsa' else seqtype):\n",
    "            corpus.append(str(cur_record.seq).lower())\n",
    "        if sample_size == -1:\n",
    "            sample_size = len(corpus)\n",
    "            resamples = [corpus]\n",
    "        else:\n",
    "            resamples = []\n",
    "            for i in range(number_of_samples):\n",
    "                resamples.append(resample(corpus, replace=True, n_samples=sample_size))\n",
    "        return resamples"
   ]
  },
  {
   "cell_type": "code",
   "execution_count": null,
   "metadata": {},
   "outputs": [],
   "source": []
  },
  {
   "cell_type": "code",
   "execution_count": null,
   "metadata": {},
   "outputs": [],
   "source": []
  },
  {
   "cell_type": "code",
   "execution_count": null,
   "metadata": {},
   "outputs": [],
   "source": []
  },
  {
   "cell_type": "code",
   "execution_count": null,
   "metadata": {},
   "outputs": [],
   "source": []
  },
  {
   "cell_type": "code",
   "execution_count": 19,
   "metadata": {},
   "outputs": [],
   "source": [
    "class MetagenomicRepresentationTest:\n",
    "    '''\n",
    "        Make k-mer from directory of fasta files\n",
    "    '''\n",
    "\n",
    "    def __init__(self, fasta_files, indexing, sampling_number=3000, num_p=20):\n",
    "        '''\n",
    "        :param fasta_files: list of fasta files\n",
    "        :param indexing: the index\n",
    "        :param sampling_number:\n",
    "        :param num_p:\n",
    "        '''\n",
    "        self.fasta_files=fasta_files\n",
    "        self.num_p=num_p\n",
    "        self.sampling_number=sampling_number\n",
    "        self.indexing=indexing\n",
    "\n",
    "\n",
    "    def get_corpus(self, file_name_sample):\n",
    "        '''\n",
    "        :param file_name_sample:\n",
    "        :return:\n",
    "        '''\n",
    "        file_name=file_name_sample[0]\n",
    "        sample_size=file_name_sample[1]\n",
    "        corpus=[]\n",
    "        for cur_record in SeqIO.parse(file_name,'fasta'):\n",
    "            corpus.append(str(cur_record.seq).lower())\n",
    "        return file_name, random.sample(corpus, min(sample_size,len(corpus))) \n",
    "    \n",
    "\n",
    "    def generate_kmers_all(self, k, save=False):\n",
    "        '''\n",
    "        :param k:\n",
    "        :param save:\n",
    "        :return:\n",
    "        '''\n",
    "        self.k=k\n",
    "        self.vocab = [''.join(xs) for xs in itertools.product('atcg', repeat=k)]\n",
    "        self.vocab.sort()\n",
    "        self.vectorizer = TfidfVectorizer(use_idf=False, vocabulary=self.vocab, analyzer='char', ngram_range=(k, k),\n",
    "                                          norm=None, stop_words=[], lowercase=True, binary=False)\n",
    "\n",
    "        data = np.zeros((len(self.fasta_files), len(self.vocab))).astype(np.float64)\n",
    "\n",
    "        # multi processing extraction of k-mer distributions\n",
    "        t_steps=[]\n",
    "        s_steps=[]\n",
    "        pool = Pool(processes=self.num_p)\n",
    "        for ky, (v,t,s) in tqdm.tqdm(pool.imap_unordered(self.get_kmer_distribution, self.fasta_files, chunksize=1),\n",
    "                               total=len(self.fasta_files)):\n",
    "            data[self.indexing[ky], :] = v\n",
    "            t_steps.append(t)\n",
    "            s_steps.append(s)\n",
    "\n",
    "        # normalize the frequencies\n",
    "        data = normalize(data, axis=1, norm='l1')\n",
    "        # The only time I see data being converted to csr_matrix\n",
    "        #data = sparse.csr_matrix(data)\n",
    "        if save:\n",
    "            FileUtility.save_obj(save, data)\n",
    "            FileUtility.save_list(save+'_meta',self.fasta_files)\n",
    "            # ': '.join(['mean_time', str(np.mean(t_steps))]), ': '.join(['std_time', str(np.std(t_steps))])\n",
    "            FileUtility.save_list(save+'_log',[': '.join(['mean_size', str(np.mean(s_steps))]), ': '.join(['std_size', str(np.std(s_steps))])])\n",
    "        return data\n",
    "\n",
    "    def get_kmer_distribution(self, file_name):\n",
    "        '''\n",
    "\n",
    "        :param file_name:\n",
    "        :return:\n",
    "        '''\n",
    "        start = timeit.timeit()\n",
    "        corpus=[]\n",
    "        for cur_record in SeqIO.parse(file_name,'fasta'):\n",
    "            corpus.append(str(cur_record.seq).lower())\n",
    "        tot_size=len(corpus)\n",
    "        if self.sampling_number==-1:\n",
    "            random.shuffle(corpus)\n",
    "        else:\n",
    "            corpus = random.sample(corpus, min(self.sampling_number,len(corpus)))\n",
    "        end = timeit.timeit()\n",
    "        return file_name, (np.sum(self.vectorizer.fit_transform(corpus).toarray(), axis=0),end - start,tot_size)"
   ]
  },
  {
   "cell_type": "code",
   "execution_count": 20,
   "metadata": {},
   "outputs": [],
   "source": [
    "class FastaRepresentations(object):\n",
    "    '''\n",
    "        Make k-mer from single fasta file\n",
    "        where the headers contain info about the label\n",
    "    '''\n",
    "    def __init__(self, fasta_address, label_modifying_func=str):\n",
    "        '''\n",
    "        :param fasta_address:\n",
    "        :param label_modifying_func: extract label from the header\n",
    "        '''\n",
    "        self.labels=[]\n",
    "        self.corpus=[]\n",
    "        for cur_record in SeqIO.parse(fasta_address, 'fasta'):\n",
    "            self.corpus.append(str(cur_record.seq).lower())\n",
    "            self.labels.append(str(cur_record.id).lower())\n",
    "        self.labels=[label_modifying_func(l) for l in self.labels]\n",
    "\n",
    "    def get_samples(self, envs, N):\n",
    "        '''\n",
    "        :param envs: list of labels\n",
    "        :param N: sample size\n",
    "        :return: extract stratified with size N corpus and label list\n",
    "        '''\n",
    "        labels=[]\n",
    "        corpus=[]\n",
    "        for env in envs:\n",
    "            selected=[idx for idx,v in enumerate(self.labels) if env==v]\n",
    "            if N==-1:\n",
    "                N=len(selected)\n",
    "            idxs=random.sample(selected, N)\n",
    "            corpus=corpus+[self.corpus[idx] for idx in idxs]\n",
    "            labels=labels+[self.labels[idx] for idx in idxs]\n",
    "        return corpus, labels\n",
    "\n",
    "    def get_vector_rep(self, corpus, k, restricted=True):\n",
    "        '''\n",
    "        :param corpus:\n",
    "        :param k: k-mer size\n",
    "        :param restricted: restricted to known values\n",
    "        :return:\n",
    "        '''\n",
    "        if restricted:\n",
    "            vocab = [''.join(xs) for xs in itertools.product('atcg', repeat=k)]\n",
    "            tf_vec = TfidfVectorizer(use_idf=True, vocabulary=vocab, analyzer='char', ngram_range=(k, k),\n",
    "                                                  norm='l1', stop_words=[], lowercase=True, binary=False)\n",
    "        else:\n",
    "            tf_vec = TfidfVectorizer(use_idf=True, analyzer='char', ngram_range=(k, k),\n",
    "                                                  norm='l1', stop_words=[], lowercase=True, binary=False)\n",
    "        return tf_vec.fit_transform(corpus)"
   ]
  },
  {
   "cell_type": "code",
   "execution_count": 21,
   "metadata": {
    "scrolled": true
   },
   "outputs": [
    {
     "name": "stdout",
     "output_type": "stream",
     "text": [
      "3 -mers with sampling size  20\n"
     ]
    },
    {
     "name": "stderr",
     "output_type": "stream",
     "text": [
      "\r",
      "  0%|          | 0/10 [00:00<?, ?it/s]"
     ]
    },
    {
     "ename": "ValueError",
     "evalue": "Found array with 0 sample(s) (shape=(0, 64)) while a minimum of 1 is required.",
     "output_type": "error",
     "traceback": [
      "\u001b[0;31m---------------------------------------------------------------------------\u001b[0m",
      "\u001b[0;31mRemoteTraceback\u001b[0m                           Traceback (most recent call last)",
      "\u001b[0;31mRemoteTraceback\u001b[0m: \n\"\"\"\nTraceback (most recent call last):\n  File \"/Users/jamesmashiyane/anaconda3/envs/james35/lib/python3.5/multiprocessing/pool.py\", line 119, in worker\n    result = (True, func(*args, **kwds))\n  File \"<ipython-input-19-776822440e35>\", line 83, in get_kmer_distribution\n    return file_name, (np.sum(self.vectorizer.fit_transform(corpus).toarray(), axis=0),end - start,tot_size)\n  File \"/Users/jamesmashiyane/anaconda3/envs/james35/lib/python3.5/site-packages/sklearn/feature_extraction/text.py\", line 1584, in fit_transform\n    self._tfidf.fit(X)\n  File \"/Users/jamesmashiyane/anaconda3/envs/james35/lib/python3.5/site-packages/sklearn/feature_extraction/text.py\", line 1207, in fit\n    X = check_array(X, accept_sparse=('csr', 'csc'))\n  File \"/Users/jamesmashiyane/anaconda3/envs/james35/lib/python3.5/site-packages/sklearn/utils/validation.py\", line 577, in check_array\n    context))\nValueError: Found array with 0 sample(s) (shape=(0, 64)) while a minimum of 1 is required.\n\"\"\"",
      "\nThe above exception was the direct cause of the following exception:\n",
      "\u001b[0;31mValueError\u001b[0m                                Traceback (most recent call last)",
      "\u001b[0;32m<ipython-input-21-3e34c21d8080>\u001b[0m in \u001b[0;36m<module>\u001b[0;34m()\u001b[0m\n\u001b[1;32m      8\u001b[0m         \u001b[0mRS\u001b[0m\u001b[0;34m=\u001b[0m\u001b[0mMetagenomicRepresentationTest\u001b[0m\u001b[0;34m(\u001b[0m\u001b[0mfasta_files\u001b[0m\u001b[0;34m,\u001b[0m \u001b[0mmapping\u001b[0m\u001b[0;34m,\u001b[0m \u001b[0mN\u001b[0m\u001b[0;34m,\u001b[0m \u001b[0mnump_p\u001b[0m\u001b[0;34m)\u001b[0m\u001b[0;34m\u001b[0m\u001b[0m\n\u001b[1;32m      9\u001b[0m         \u001b[0;31m# path to save the generated files\u001b[0m\u001b[0;34m\u001b[0m\u001b[0;34m\u001b[0m\u001b[0m\n\u001b[0;32m---> 10\u001b[0;31m         \u001b[0mRS\u001b[0m\u001b[0;34m.\u001b[0m\u001b[0mgenerate_kmers_all\u001b[0m\u001b[0;34m(\u001b[0m\u001b[0mk\u001b[0m\u001b[0;34m,\u001b[0m\u001b[0msave\u001b[0m\u001b[0;34m=\u001b[0m\u001b[0;34m'/Users/jamesmashiyane/Desktop/MicroPheno-master/data/gz_body_site_data/10_seq_files/16s_samples10_'\u001b[0m\u001b[0;34m+\u001b[0m\u001b[0mstr\u001b[0m\u001b[0;34m(\u001b[0m\u001b[0mk\u001b[0m\u001b[0;34m)\u001b[0m\u001b[0;34m+\u001b[0m\u001b[0;34m'-mers_rate_complete_seq_'\u001b[0m\u001b[0;34m+\u001b[0m\u001b[0mstr\u001b[0m\u001b[0;34m(\u001b[0m\u001b[0mN\u001b[0m\u001b[0;34m)\u001b[0m\u001b[0;34m)\u001b[0m\u001b[0;34m\u001b[0m\u001b[0m\n\u001b[0m",
      "\u001b[0;32m<ipython-input-19-776822440e35>\u001b[0m in \u001b[0;36mgenerate_kmers_all\u001b[0;34m(self, k, save)\u001b[0m\n\u001b[1;32m     49\u001b[0m         \u001b[0mpool\u001b[0m \u001b[0;34m=\u001b[0m \u001b[0mPool\u001b[0m\u001b[0;34m(\u001b[0m\u001b[0mprocesses\u001b[0m\u001b[0;34m=\u001b[0m\u001b[0mself\u001b[0m\u001b[0;34m.\u001b[0m\u001b[0mnum_p\u001b[0m\u001b[0;34m)\u001b[0m\u001b[0;34m\u001b[0m\u001b[0m\n\u001b[1;32m     50\u001b[0m         for ky, (v,t,s) in tqdm.tqdm(pool.imap_unordered(self.get_kmer_distribution, self.fasta_files, chunksize=1),\n\u001b[0;32m---> 51\u001b[0;31m                                total=len(self.fasta_files)):\n\u001b[0m\u001b[1;32m     52\u001b[0m             \u001b[0mdata\u001b[0m\u001b[0;34m[\u001b[0m\u001b[0mself\u001b[0m\u001b[0;34m.\u001b[0m\u001b[0mindexing\u001b[0m\u001b[0;34m[\u001b[0m\u001b[0mky\u001b[0m\u001b[0;34m]\u001b[0m\u001b[0;34m,\u001b[0m \u001b[0;34m:\u001b[0m\u001b[0;34m]\u001b[0m \u001b[0;34m=\u001b[0m \u001b[0mv\u001b[0m\u001b[0;34m\u001b[0m\u001b[0m\n\u001b[1;32m     53\u001b[0m             \u001b[0mt_steps\u001b[0m\u001b[0;34m.\u001b[0m\u001b[0mappend\u001b[0m\u001b[0;34m(\u001b[0m\u001b[0mt\u001b[0m\u001b[0;34m)\u001b[0m\u001b[0;34m\u001b[0m\u001b[0m\n",
      "\u001b[0;32m~/anaconda3/envs/james35/lib/python3.5/site-packages/tqdm/_tqdm.py\u001b[0m in \u001b[0;36m__iter__\u001b[0;34m(self)\u001b[0m\n\u001b[1;32m   1003\u001b[0m                 \"\"\"), fp_write=getattr(self.fp, 'write', sys.stderr.write))\n\u001b[1;32m   1004\u001b[0m \u001b[0;34m\u001b[0m\u001b[0m\n\u001b[0;32m-> 1005\u001b[0;31m             \u001b[0;32mfor\u001b[0m \u001b[0mobj\u001b[0m \u001b[0;32min\u001b[0m \u001b[0miterable\u001b[0m\u001b[0;34m:\u001b[0m\u001b[0;34m\u001b[0m\u001b[0m\n\u001b[0m\u001b[1;32m   1006\u001b[0m                 \u001b[0;32myield\u001b[0m \u001b[0mobj\u001b[0m\u001b[0;34m\u001b[0m\u001b[0m\n\u001b[1;32m   1007\u001b[0m                 \u001b[0;31m# Update and possibly print the progressbar.\u001b[0m\u001b[0;34m\u001b[0m\u001b[0;34m\u001b[0m\u001b[0m\n",
      "\u001b[0;32m~/anaconda3/envs/james35/lib/python3.5/multiprocessing/pool.py\u001b[0m in \u001b[0;36mnext\u001b[0;34m(self, timeout)\u001b[0m\n\u001b[1;32m    729\u001b[0m         \u001b[0;32mif\u001b[0m \u001b[0msuccess\u001b[0m\u001b[0;34m:\u001b[0m\u001b[0;34m\u001b[0m\u001b[0m\n\u001b[1;32m    730\u001b[0m             \u001b[0;32mreturn\u001b[0m \u001b[0mvalue\u001b[0m\u001b[0;34m\u001b[0m\u001b[0m\n\u001b[0;32m--> 731\u001b[0;31m         \u001b[0;32mraise\u001b[0m \u001b[0mvalue\u001b[0m\u001b[0;34m\u001b[0m\u001b[0m\n\u001b[0m\u001b[1;32m    732\u001b[0m \u001b[0;34m\u001b[0m\u001b[0m\n\u001b[1;32m    733\u001b[0m     \u001b[0m__next__\u001b[0m \u001b[0;34m=\u001b[0m \u001b[0mnext\u001b[0m                    \u001b[0;31m# XXX\u001b[0m\u001b[0;34m\u001b[0m\u001b[0m\n",
      "\u001b[0;31mValueError\u001b[0m: Found array with 0 sample(s) (shape=(0, 64)) while a minimum of 1 is required."
     ]
    }
   ],
   "source": [
    "# In this case we have already chosen which one is the best (\"k,N\") from analysing the graph, then we represent it \n",
    "sampling_dict={3:[20],4:[50],5:[100]}\n",
    "# number of cores\n",
    "nump_p=20\n",
    "for k in sampling_dict.keys():\n",
    "    for N in sampling_dict[k]:\n",
    "        print(k,'-mers with sampling size ',N)\n",
    "        RS=MetagenomicRepresentationTest(fasta_files, mapping, N, nump_p)\n",
    "        # path to save the generated files\n",
    "        RS.generate_kmers_all(k,save='/Users/jamesmashiyane/Desktop/MicroPheno-master/data/gz_body_site_data/10_seq_files/16s_samples10_'+str(k)+'-mers_rate_complete_seq_'+str(N))"
   ]
  },
  {
   "cell_type": "code",
   "execution_count": null,
   "metadata": {},
   "outputs": [],
   "source": [
    "# load data for ML"
   ]
  },
  {
   "cell_type": "code",
   "execution_count": null,
   "metadata": {
    "scrolled": false
   },
   "outputs": [],
   "source": [
    "# we have three datasets that we can check the state of the art from, k,N = (3,20), (4,50), and (5,100) \n",
    "\n",
    "from numpy import load\n",
    "\n",
    "data = load('/Users/jamesmashiyane/Desktop/MicroPheno-master/data/gz_body_site_data/10_seq_files/16s_samples10_5-mers_rate_complete_seq_100.npz')\n",
    "lst = data.files\n",
    "#for item in lst:\n",
    "#    print(item)\n",
    "#    print(data[item])"
   ]
  },
  {
   "cell_type": "code",
   "execution_count": null,
   "metadata": {},
   "outputs": [],
   "source": [
    "lst"
   ]
  },
  {
   "cell_type": "code",
   "execution_count": null,
   "metadata": {},
   "outputs": [],
   "source": [
    "def load_sparse_csr(filename):\n",
    "        loader = np.load(filename)\n",
    "        return sparse.csr_matrix((loader['data'], loader['indices'], loader['indptr']), shape=loader['shape']).toarray()"
   ]
  },
  {
   "cell_type": "code",
   "execution_count": null,
   "metadata": {},
   "outputs": [],
   "source": [
    "X_3_mer=load_sparse_csr('/Users/jamesmashiyane/Desktop/MicroPheno-master/data/gz_body_site_data/10_seq_files/16s_samples10_3-mers_rate_complete_seq_20.npz')\n",
    "X_4_mer=load_sparse_csr('/Users/jamesmashiyane/Desktop/MicroPheno-master/data/gz_body_site_data/10_seq_files/16s_samples10_4-mers_rate_complete_seq_50.npz')\n",
    "X_5_mer=load_sparse_csr('/Users/jamesmashiyane/Desktop/MicroPheno-master/data/gz_body_site_data/10_seq_files/16s_samples10_5-mers_rate_complete_seq_100.npz')"
   ]
  },
  {
   "cell_type": "code",
   "execution_count": null,
   "metadata": {},
   "outputs": [],
   "source": [
    "X_5_mer.shape"
   ]
  },
  {
   "cell_type": "code",
   "execution_count": null,
   "metadata": {},
   "outputs": [],
   "source": [
    "import pickle\n",
    "pickle_in = open(\"/Users/jamesmashiyane/Desktop/MicroPheno-master/data/gz_body_site_data/10_seq_files/16s_samples10_5-mers_rate_complete_seq_100.pickle\",\"rb\")\n",
    "example_dict = pickle.load(pickle_in)"
   ]
  },
  {
   "cell_type": "code",
   "execution_count": null,
   "metadata": {},
   "outputs": [],
   "source": [
    "example_dict.shape"
   ]
  },
  {
   "cell_type": "code",
   "execution_count": null,
   "metadata": {},
   "outputs": [],
   "source": [
    "y = X_5_mer - example_dict"
   ]
  }
 ],
 "metadata": {
  "kernelspec": {
   "display_name": "Python 3",
   "language": "python",
   "name": "python3"
  },
  "language_info": {
   "codemirror_mode": {
    "name": "ipython",
    "version": 3
   },
   "file_extension": ".py",
   "mimetype": "text/x-python",
   "name": "python",
   "nbconvert_exporter": "python",
   "pygments_lexer": "ipython3",
   "version": "3.5.6"
  }
 },
 "nbformat": 4,
 "nbformat_minor": 2
}
